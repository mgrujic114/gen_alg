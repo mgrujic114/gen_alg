{
  "cells": [
    {
      "cell_type": "code",
      "execution_count": null,
      "metadata": {
        "id": "oYmQIiTB-2m0"
      },
      "outputs": [],
      "source": [
        "from google.colab import drive\n",
        "drive.mount('/content/drive')"
      ]
    },
    {
      "cell_type": "code",
      "execution_count": 144,
      "metadata": {
        "id": "SpgcuuTi2w7a"
      },
      "outputs": [],
      "source": [
        "import random\n",
        "import sys\n",
        "import numpy as np\n",
        "import math\n",
        "import matplotlib.pyplot as plt"
      ]
    },
    {
      "cell_type": "code",
      "execution_count": 160,
      "metadata": {
        "id": "yR_EADMN3nXd"
      },
      "outputs": [],
      "source": [
        "population_size = 70\n",
        "max_generations = 10\n",
        "max_iter = 100\n",
        "repeat = 3\n",
        "outfile = sys.stdout\n",
        "mut_rate = 0.25\n",
        "stddev = 0.02\n",
        "with open('/content/drive/MyDrive/fajl.txt', 'r') as f:\n",
        "    for linija in f:\n",
        "        if 'population_size' in linija:\n",
        "            broj_string = linija.split('population_size = ')[1].strip()\n",
        "            try:\n",
        "                population_size = int(broj_string)\n",
        "            except ValueError:\n",
        "                print(f\"Nije moguće pretvoriti {broj_string} u broj.\")\n",
        "        if 'max_generations' in linija:\n",
        "            broj_string = linija.split('max_generations = ')[1].strip()\n",
        "            try:\n",
        "                max_generations = int(broj_string)\n",
        "            except ValueError:\n",
        "                print(\"Nije moguće pretvoriti u broj.\")\n",
        "        if 'max_iter' in linija:\n",
        "            broj_string = linija.split('max_iter = ')[1].strip()\n",
        "            try:\n",
        "                max_iter = int(broj_string)\n",
        "            except ValueError:\n",
        "                print(f\"Nije moguće pretvoriti {broj_string} u broj.\")\n",
        "        if 'repeat' in linija:\n",
        "            broj_string = linija.split('repeat = ')[1].strip()\n",
        "            try:\n",
        "                repeat = int(broj_string)\n",
        "            except ValueError:\n",
        "                print(f\"Nije moguće pretvoriti {broj_string} u broj.\")\n",
        "        if 'mut_rate' in linija:\n",
        "            broj_string = linija.split('mut_rate = ')[1].strip()\n",
        "            try:\n",
        "                num_variables = int(broj_string)\n",
        "            except ValueError:\n",
        "                print(f\"Nije moguće pretvoriti {broj_string} u broj.\")\n",
        "        if 'stddev' in linija:\n",
        "            broj_string = linija.split('stddev = ')[1].strip()\n",
        "            try:\n",
        "                stddev = int(broj_string)\n",
        "            except ValueError:\n",
        "                print(f\"Nije moguće pretvoriti {broj_string} u broj.\")\n",
        "        if 'outfile' in linija:\n",
        "            outfile = linija.split('outfile = ')[1].strip()"
      ]
    },
    {
      "cell_type": "code",
      "execution_count": 146,
      "metadata": {
        "id": "jaE6u7kSKVu9"
      },
      "outputs": [],
      "source": [
        "import subprocess\n",
        "\n",
        "def compile_c_program():\n",
        "    compile_args = ['gcc', '-Wall', '/content/drive/MyDrive/g.c', '-o', 'k', '-lm']\n",
        "    subprocess.call(compile_args)\n",
        "\n",
        "compile_c_program()"
      ]
    },
    {
      "cell_type": "code",
      "execution_count": 147,
      "metadata": {
        "id": "8SKaVVKvKj62"
      },
      "outputs": [],
      "source": [
        "def loss(niz_koeficijenata):\n",
        "\n",
        "    string_array = [str(float_value) for float_value in niz_koeficijenata]\n",
        "    #print(len(niz_koeficijenata))\n",
        "\n",
        "    output = subprocess.check_output([\"/content/drive/MyDrive/k\", *string_array], universal_newlines=True)\n",
        "\n",
        "    result = float(output.strip())\n",
        "\n",
        "    return result"
      ]
    },
    {
      "cell_type": "code",
      "execution_count": 148,
      "metadata": {
        "id": "2suyqqt23F3a"
      },
      "outputs": [],
      "source": [
        "# Funkcija za mutaciju (tačkasta normalna mutacija)\n",
        "def mutate (hromozom, rate):\n",
        "    if random.random() < rate:\n",
        "        for i in range(33):\n",
        "            hromozom[i] += random.gauss(0, stddev)\n",
        "\n",
        "    return hromozom"
      ]
    },
    {
      "cell_type": "code",
      "execution_count": 149,
      "metadata": {
        "id": "vgw6KLYbUfDL"
      },
      "outputs": [],
      "source": [
        "# Funkcija za generisanje inicijalne populacije\n",
        "def initialize_population(population_size):\n",
        "    population =[]\n",
        "    for i in range(population_size):\n",
        "            niz_koef = []\n",
        "            for j in range(33):\n",
        "                niz_koef.append(round(random.uniform(-3,3), 3))\n",
        "            population.append(niz_koef)\n",
        "\n",
        "    return population\n",
        "\n",
        "# Funkcija za selekciju roditelja (proporcionalna selekcija)\n",
        "def select_parents(population, fitness_scores):\n",
        "    total_fitness = sum(fitness_scores)\n",
        "    probabilities = [score / total_fitness for score in fitness_scores]\n",
        "    selected_index = random.choices(range(len(population)), weights=probabilities, k=1)[0]\n",
        "    return population[selected_index]\n",
        "\n",
        "# Funkcija za ukrštanje (heurističko ukrštanje)\n",
        "def crossover(parent1, parent2):\n",
        "    #print('ukrstanje')\n",
        "    child1 = []\n",
        "    child2 = []\n",
        "    #print(parent1)\n",
        "    for gene1, gene2 in zip(parent1, parent2):\n",
        "        alpha = random.uniform(0, 1)\n",
        "        child1_gene = alpha * gene1 + (1 - alpha) * gene2\n",
        "        child2_gene = alpha * gene2 + (1 - alpha) * gene1\n",
        "        child1.append(child1_gene)\n",
        "        child2.append(child2_gene)\n",
        "\n",
        "    return child1, child2"
      ]
    },
    {
      "cell_type": "code",
      "execution_count": 158,
      "metadata": {
        "id": "_lq_01sZ3KOy"
      },
      "outputs": [],
      "source": [
        "def cga():\n",
        "  open()\n",
        "  population_size = 40\n",
        "  npop_vel = population_size\n",
        "  c = 0\n",
        "  s_trosak = 0\n",
        "  s_iteracija = 0\n",
        "  best_ever_sol = None\n",
        "  best_ever_f = None\n",
        "  fig1 = plt.figure(figsize=(20, 4))\n",
        "  ax1 = fig1.add_subplot(1,2,1)\n",
        "  ax1.set_xlabel('редни број генерације')\n",
        "  ax1.set_ylabel('вр ф за нај реш у одређеном покретању у тренутној ген')\n",
        "  fig1.suptitle('График прилагођености најбољег решења у популацији у односу на редни број генерације')\n",
        "  fig2 = plt.figure(figsize=(20, 4))\n",
        "  fig2.suptitle('График просечне прилагођености популације у односу на редни број генерације')\n",
        "  ax2 = fig2.add_subplot(1,2,1)\n",
        "  ax2.set_xlabel('редни број генерације')\n",
        "  ax2.set_ylabel('вр ф за нај реш у одређеном покретању у тренутној ген')\n",
        "  # 3 pokretanja genetskog algoritma\n",
        "  for k in range(repeat):\n",
        "        xvalues=[]\n",
        "        yvalues=[]\n",
        "        yvalues1=[]\n",
        "        print('Pokretanje: GA', mut_rate, k, file=outfile)\n",
        "        best = None\n",
        "        best_f = None\n",
        "        t = 0\n",
        "        #print('petlja1')\n",
        "        pop = initialize_population(population_size)\n",
        "        #print(pop)\n",
        "        fitness_scores = [loss(population) for population in pop]\n",
        "        # ponavljamo dok ne postignemo maksimum iteracija ili dok trošak ne postane 0\n",
        "        while best_f != 0 and t < max_iter:\n",
        "            #print('petlja2')\n",
        "            n_pop = pop[:]\n",
        "            i=0\n",
        "            svi_troskovi=0\n",
        "            while len(n_pop) < population_size + npop_vel:\n",
        "                #print('petlja3')\n",
        "                h1 = select_parents(pop, fitness_scores)\n",
        "                h2 = select_parents(pop, fitness_scores)\n",
        "                h3, h4 = crossover(h1, h2)\n",
        "                #print(h3)\n",
        "                mutate(h3, mut_rate)\n",
        "                mutate(h4, mut_rate)\n",
        "                n_pop.append(h3)\n",
        "                n_pop.append(h4)\n",
        "                svi_troskovi+=loss(pop[i])\n",
        "                i+=1\n",
        "            pop = sorted(n_pop, key=lambda x : loss(x))[:population_size]\n",
        "            fitness_scores = [loss(population) for population in pop]\n",
        "            f = loss(pop[0])\n",
        "            if best_f is None or best_f > f:\n",
        "                best_f = f\n",
        "                best = pop[0]\n",
        "            xvalues.append(t)\n",
        "            t += 1\n",
        "            yvalues.append(f)\n",
        "            yvalues1.append(svi_troskovi/population_size)\n",
        "        s_trosak += best_f\n",
        "        s_iteracija += t\n",
        "\n",
        "        if best_ever_f is None or best_ever_f > best_f:\n",
        "            best_ever_f = best_f\n",
        "            best_ever_sol = best\n",
        "        print(t, best, best_f, file=outfile)\n",
        "        ax1.plot(xvalues, yvalues, label=k)\n",
        "        ax1.legend()\n",
        "        ax2.plot(xvalues, yvalues1, label=k)\n",
        "        ax2.legend()\n",
        "    # na kraju svih izvršavanja izračunavamo srednji trošak i srednji broj iteracija\n",
        "  s_trosak /= 3\n",
        "  s_iteracija /= 3\n",
        "  print('Srednji trosak: %.2f' % s_trosak, file=outfile)\n",
        "  print('Srednji broj iteracija: %.2f' % s_iteracija, file=outfile)\n",
        "  print('Najbolje resenje: %s' % best_ever_sol, file=outfile)\n",
        "  print('Najbolji trosak: %.2f' % best_ever_f, file=outfile)\n"
      ]
    },
    {
      "cell_type": "code",
      "execution_count": null,
      "metadata": {
        "id": "OmuuhAueWfAZ"
      },
      "outputs": [],
      "source": [
        "cga()"
      ]
    }
  ],
  "metadata": {
    "accelerator": "GPU",
    "colab": {
      "gpuType": "T4",
      "provenance": []
    },
    "kernelspec": {
      "display_name": "Python 3",
      "name": "python3"
    },
    "language_info": {
      "name": "python"
    }
  },
  "nbformat": 4,
  "nbformat_minor": 0
}
